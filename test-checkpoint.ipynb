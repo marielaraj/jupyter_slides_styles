{
 "cells": [
  {
   "cell_type": "markdown",
   "id": "04194f00-53eb-40dc-befe-20788238d8f9",
   "metadata": {
    "editable": true,
    "slideshow": {
     "slide_type": ""
    },
    "tags": []
   },
   "source": [
    "# Header 1"
   ]
  },
  {
   "cell_type": "markdown",
   "id": "264ad8fc-b3cc-430e-b67a-58b8b11a00e1",
   "metadata": {
    "editable": true,
    "slideshow": {
     "slide_type": "slide"
    },
    "tags": []
   },
   "source": [
    "## Header 2"
   ]
  },
  {
   "cell_type": "markdown",
   "id": "8a9196bf-ec43-4072-b6a6-1d1e8900d2a5",
   "metadata": {
    "editable": true,
    "slideshow": {
     "slide_type": "slide"
    },
    "tags": []
   },
   "source": [
    "### Header 3"
   ]
  },
  {
   "cell_type": "markdown",
   "id": "af96a7cb-f9c6-4044-ac16-612f2028fe19",
   "metadata": {
    "editable": true,
    "slideshow": {
     "slide_type": "slide"
    },
    "tags": []
   },
   "source": [
    "Body"
   ]
  },
  {
   "cell_type": "code",
   "execution_count": 1,
   "id": "dd3f0a52-8e63-436f-8e7a-8c55e1ca19c4",
   "metadata": {
    "editable": true,
    "slideshow": {
     "slide_type": ""
    },
    "tags": []
   },
   "outputs": [
    {
     "name": "stdout",
     "output_type": "stream",
     "text": [
      "0\n",
      "1\n",
      "2\n",
      "0\n",
      "1\n",
      "2\n",
      "0\n",
      "1\n",
      "2\n",
      "0\n"
     ]
    }
   ],
   "source": [
    "# code\n",
    "for i in range(10):\n",
    "    print(i%3)"
   ]
  },
  {
   "cell_type": "code",
   "execution_count": null,
   "id": "28f22a24-efae-4f6e-bc89-f726ffbad1cf",
   "metadata": {
    "editable": true,
    "slideshow": {
     "slide_type": ""
    },
    "tags": []
   },
   "outputs": [],
   "source": []
  }
 ],
 "metadata": {
  "kernelspec": {
   "display_name": "Python 3 (ipykernel)",
   "language": "python",
   "name": "python3"
  },
  "language_info": {
   "codemirror_mode": {
    "name": "ipython",
    "version": 3
   },
   "file_extension": ".py",
   "mimetype": "text/x-python",
   "name": "python",
   "nbconvert_exporter": "python",
   "pygments_lexer": "ipython3",
   "version": "3.12.3"
  }
 },
 "nbformat": 4,
 "nbformat_minor": 5
}
